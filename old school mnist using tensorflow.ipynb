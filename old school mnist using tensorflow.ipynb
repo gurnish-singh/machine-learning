{
  "nbformat": 4,
  "nbformat_minor": 0,
  "metadata": {
    "colab": {
      "name": "Exercise 3 - Question.ipynb",
      "provenance": [],
      "collapsed_sections": [],
      "include_colab_link": true
    },
    "kernelspec": {
      "name": "python3",
      "display_name": "Python 3"
    }
  },
  "cells": [
    {
      "cell_type": "markdown",
      "metadata": {
        "id": "view-in-github",
        "colab_type": "text"
      },
      "source": [
        "<a href=\"https://colab.research.google.com/github/gurnish-singh/machine-learning/blob/master/old%20school%20mnist%20using%20tensorflow.ipynb\" target=\"_parent\"><img src=\"https://colab.research.google.com/assets/colab-badge.svg\" alt=\"Open In Colab\"/></a>"
      ]
    },
    {
      "cell_type": "code",
      "metadata": {
        "id": "sfQRyaJWAIdg",
        "colab_type": "code",
        "outputId": "ffab3f34-f98b-45bb-b115-d517ae4c2519",
        "colab": {
          "base_uri": "https://localhost:8080/",
          "height": 486
        }
      },
      "source": [
        "import tensorflow as tf\n",
        "\n",
        "# YOUR CODE STARTS HERE\n",
        "from tensorflow import keras\n",
        "import matplotlib.pyplot as plt\n",
        "# YOUR CODE ENDS HERE\n",
        "\n",
        "mnist = tf.keras.datasets.mnist\n",
        "(training_images, training_labels), (test_images, test_labels) = mnist.load_data()\n",
        "plt.gray()\n",
        "plt.imshow(training_images[100])\n",
        "print(training_images.shape)\n",
        "training_images=training_images.reshape(60000,28,28,1)# 1 specifies that is is grey scale\n",
        "test_images=test_images.reshape(10000,28,28,1)\n",
        "training_images=training_images/255;\n",
        "test_images=test_images/255;\n",
        "\n",
        "model = tf.keras.models.Sequential([\n",
        "  tf.keras.layers.Conv2D(64,(3,3),activation='relu',input_shape=(28,28,1)),\n",
        "  tf.keras.layers.MaxPooling2D(2,2),\n",
        "  #tf.keras.layers.Conv2D(64,(3,3),activation='relu'),\n",
        "  #tf.keras.layers.MaxPooling2D(2,2),\n",
        "  tf.keras.layers.Flatten(),\n",
        "  tf.keras.layers.Dense(128, activation=tf.nn.relu),\n",
        "  tf.keras.layers.Dense(10, activation=tf.nn.softmax)\n",
        "])\n",
        "\n",
        "model.compile(optimizer='sgd',loss='sparse_categorical_crossentropy',\n",
        "              metrics=['accuracy'])\n",
        "model.fit(training_images,training_labels,epochs=5)\n",
        "\n"
      ],
      "execution_count": 0,
      "outputs": [
        {
          "output_type": "stream",
          "text": [
            "(60000, 28, 28)\n",
            "Train on 60000 samples\n",
            "Epoch 1/5\n",
            "60000/60000 [==============================] - 78s 1ms/sample - loss: 0.5497 - acc: 0.8399\n",
            "Epoch 2/5\n",
            "60000/60000 [==============================] - 78s 1ms/sample - loss: 0.1467 - acc: 0.9556\n",
            "Epoch 3/5\n",
            "60000/60000 [==============================] - 78s 1ms/sample - loss: 0.0977 - acc: 0.9704\n",
            "Epoch 4/5\n",
            "60000/60000 [==============================] - 78s 1ms/sample - loss: 0.0777 - acc: 0.9761\n",
            "Epoch 5/5\n",
            "60000/60000 [==============================] - 78s 1ms/sample - loss: 0.0660 - acc: 0.9801\n"
          ],
          "name": "stdout"
        },
        {
          "output_type": "execute_result",
          "data": {
            "text/plain": [
              "<tensorflow.python.keras.callbacks.History at 0x7f57b2372eb8>"
            ]
          },
          "metadata": {
            "tags": []
          },
          "execution_count": 10
        },
        {
          "output_type": "display_data",
          "data": {
            "image/png": "[encoded data removed]",
            "text/plain": [
              "<Figure size 432x288 with 1 Axes>"
            ]
          },
          "metadata": {
            "tags": []
          }
        }
      ]
    },
    {
      "cell_type": "code",
      "metadata": {
        "id": "m4CNLg2RXqy8",
        "colab_type": "code",
        "outputId": "9fd91427-02b3-4709-f243-1df7ce63d08e",
        "colab": {
          "base_uri": "https://localhost:8080/",
          "height": 51
        }
      },
      "source": [
        "model.evaluate(test_images,test_labels)"
      ],
      "execution_count": 0,
      "outputs": [
        {
          "output_type": "stream",
          "text": [
            "10000/10000 [==============================] - 4s 399us/sample - loss: 0.0545 - acc: 0.9823\n"
          ],
          "name": "stdout"
        },
        {
          "output_type": "execute_result",
          "data": {
            "text/plain": [
              "[0.05454663760960102, 0.9823]"
            ]
          },
          "metadata": {
            "tags": []
          },
          "execution_count": 12
        }
      ]
    },
    {
      "cell_type": "code",
      "metadata": {
        "id": "D2UOpvagfU6i",
        "colab_type": "code",
        "outputId": "7246ce52-068b-4b2a-a28a-ba10ac18e919",
        "colab": {
          "base_uri": "https://localhost:8080/",
          "height": 34
        }
      },
      "source": [
        "print(test_labels[5])"
      ],
      "execution_count": 0,
      "outputs": [
        {
          "output_type": "stream",
          "text": [
            "1\n"
          ],
          "name": "stdout"
        }
      ]
    },
    {
      "cell_type": "code",
      "metadata": {
        "id": "sQTja7Lfeyga",
        "colab_type": "code",
        "outputId": "48cd570a-6843-4bef-df89-dc68c39024bc",
        "colab": {
          "base_uri": "https://localhost:8080/",
          "height": 68
        }
      },
      "source": [
        "model.predict(test_images)[5,:]"
      ],
      "execution_count": 0,
      "outputs": [
        {
          "output_type": "execute_result",
          "data": {
            "text/plain": [
              "array([3.4686905e-06, 9.9939561e-01, 8.4611702e-06, 6.5890345e-07,\n",
              "       1.4816834e-04, 9.4896706e-08, 1.9378822e-05, 3.8439239e-04,\n",
              "       3.2304553e-05, 7.4705958e-06], dtype=float32)"
            ]
          },
          "metadata": {
            "tags": []
          },
          "execution_count": 19
        }
      ]
    },
    {
      "cell_type": "markdown",
      "metadata": {
        "id": "1coxdhT4fwCX",
        "colab_type": "text"
      },
      "source": [
        "so predicting test label=1 here gives highest value on the respecive index of 1 in model.predict()\n"
      ]
    },
    {
      "cell_type": "code",
      "metadata": {
        "id": "SUpgoCLQgDCx",
        "colab_type": "code",
        "colab": {}
      },
      "source": [
        ""
      ],
      "execution_count": 0,
      "outputs": []
    }
  ]
}