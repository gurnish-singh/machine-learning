{
  "nbformat": 4,
  "nbformat_minor": 0,
  "metadata": {
    "colab": {
      "name": "Untitled2.ipynb",
      "provenance": [],
      "collapsed_sections": [],
      "authorship_tag": "ABX9TyNIwpqIuRJztYL6t+75p4O1",
      "include_colab_link": true
    },
    "kernelspec": {
      "name": "python3",
      "display_name": "Python 3"
    },
    "accelerator": "GPU"
  },
  "cells": [
    {
      "cell_type": "markdown",
      "metadata": {
        "id": "view-in-github",
        "colab_type": "text"
      },
      "source": [
        "<a href=\"https://colab.research.google.com/github/gurnish-singh/machine-learning/blob/master/fashion_mnist.ipynb\" target=\"_parent\"><img src=\"https://colab.research.google.com/assets/colab-badge.svg\" alt=\"Open In Colab\"/></a>"
      ]
    },
    {
      "cell_type": "code",
      "metadata": {
        "id": "zAOZ_1KvJOTs",
        "colab_type": "code",
        "colab": {}
      },
      "source": [
        "import tensorflow as tf\n",
        "fashion=tf.keras.datasets.fashion_mnist\n",
        "print(tf.__version__)"
      ],
      "execution_count": 0,
      "outputs": []
    },
    {
      "cell_type": "markdown",
      "metadata": {
        "id": "Wzp_3eQeCmtl",
        "colab_type": "text"
      },
      "source": [
        "we can try other differnt datasets from keras"
      ]
    },
    {
      "cell_type": "code",
      "metadata": {
        "id": "mYJIJFhiJotQ",
        "colab_type": "code",
        "outputId": "04e34613-6354-4a39-b57a-1e77c661efaa",
        "colab": {
          "base_uri": "https://localhost:8080/",
          "height": 435
        }
      },
      "source": [
        "import matplotlib.pyplot as plt\n",
        "(train_images,train_labels),(test_images,test_labels)=fashion.load_data()\n",
        "plt.imshow(train_images[5])\n",
        "print(train_labels[5])\n",
        "\"\"\"print(train_images[5]) will show the pixel values\"\"\"\n"
      ],
      "execution_count": 0,
      "outputs": [
        {
          "output_type": "stream",
          "text": [
            "Downloading data from https://storage.googleapis.com/tensorflow/tf-keras-datasets/train-labels-idx1-ubyte.gz\n",
            "32768/29515 [=================================] - 0s 0us/step\n",
            "Downloading data from https://storage.googleapis.com/tensorflow/tf-keras-datasets/train-images-idx3-ubyte.gz\n",
            "26427392/26421880 [==============================] - 0s 0us/step\n",
            "Downloading data from https://storage.googleapis.com/tensorflow/tf-keras-datasets/t10k-labels-idx1-ubyte.gz\n",
            "8192/5148 [===============================================] - 0s 0us/step\n",
            "Downloading data from https://storage.googleapis.com/tensorflow/tf-keras-datasets/t10k-images-idx3-ubyte.gz\n",
            "4423680/4422102 [==============================] - 0s 0us/step\n",
            "2\n"
          ],
          "name": "stdout"
        },
        {
          "output_type": "execute_result",
          "data": {
            "text/plain": [
              "'print(train_images[5]) will show the pixel values'"
            ]
          },
          "metadata": {
            "tags": []
          },
          "execution_count": 3
        },
        {
          "output_type": "display_data",
          "data": {
            "image/png": "[encoded data removed]",
            "text/plain": [
              "<Figure size 432x288 with 1 Axes>"
            ]
          },
          "metadata": {
            "tags": []
          }
        }
      ]
    },
    {
      "cell_type": "code",
      "metadata": {
        "id": "wTOeSidMKB6W",
        "colab_type": "code",
        "outputId": "ed8a38cc-ced4-4717-ee74-0d058839fb41",
        "colab": {
          "base_uri": "https://localhost:8080/",
          "height": 34
        }
      },
      "source": [
        "train_images=train_images/255;\n",
        "test_images=test_images/255;\n",
        "\"\"\" normalization\"\"\""
      ],
      "execution_count": 0,
      "outputs": [
        {
          "output_type": "execute_result",
          "data": {
            "text/plain": [
              "' normalization'"
            ]
          },
          "metadata": {
            "tags": []
          },
          "execution_count": 55
        }
      ]
    },
    {
      "cell_type": "code",
      "metadata": {
        "id": "zpFwNlnqJ8EX",
        "colab_type": "code",
        "colab": {}
      },
      "source": [
        "model= tf.keras.models.Sequential([ \n",
        "                                   tf.keras.layers.Flatten(\n",
        "                                       #input_shape=(28,28)\n",
        "                                       ),\n",
        "                        tf.keras.layers.Dense(256, activation=tf.nn.relu),\n",
        "                        tf.keras.layers.Dense(128, activation=tf.nn.relu),\n",
        "                        tf.keras.layers.Dense(10,activation=tf.nn.softmax)\n",
        "                        ])"
      ],
      "execution_count": 0,
      "outputs": []
    },
    {
      "cell_type": "markdown",
      "metadata": {
        "id": "7gtXjF0FMjv0",
        "colab_type": "text"
      },
      "source": [
        "\"\"\" input layer has shape (28,28)\"\"\"\n",
        " \"\"\" first hidden layer has 128 units and relu activation function\"\"\"\n",
        "  \"\"\"second layer has 10 units and softmax activation function\"\"\""
      ]
    },
    {
      "cell_type": "code",
      "metadata": {
        "id": "H0p_8IRyHQ5N",
        "colab_type": "code",
        "colab": {}
      },
      "source": [
        "model.compile(optimizer='sgd',loss='sparse_categorical_crossentropy')\n"
      ],
      "execution_count": 0,
      "outputs": []
    },
    {
      "cell_type": "code",
      "metadata": {
        "id": "_Wx-S0HVG5Lk",
        "colab_type": "code",
        "colab": {}
      },
      "source": [
        "class myCallback(tf.keras.callbacks.Callback):\n",
        "  def on_epoch_end(self, epoch, logs={}):\n",
        "    if(logs.get('loss')<0.30):\n",
        "      print(\"\\nReached 70% accuracy so cancelling training!\")\n",
        "      self.model.stop_training = True\n"
      ],
      "execution_count": 0,
      "outputs": []
    },
    {
      "cell_type": "code",
      "metadata": {
        "id": "4Fgcw3HiHXWS",
        "colab_type": "code",
        "colab": {}
      },
      "source": [
        "callbacks=myCallback()"
      ],
      "execution_count": 0,
      "outputs": []
    },
    {
      "cell_type": "code",
      "metadata": {
        "id": "0XCNw0IYNh4-",
        "colab_type": "code",
        "outputId": "f3e1caac-f121-46ad-cff7-60aaeff08665",
        "colab": {
          "base_uri": "https://localhost:8080/",
          "height": 221
        }
      },
      "source": [
        "model.fit(train_images,train_labels,epochs=5,callbacks=[callbacks])\n"
      ],
      "execution_count": 0,
      "outputs": [
        {
          "output_type": "stream",
          "text": [
            "Train on 60000 samples\n",
            "Epoch 1/5\n",
            "60000/60000 [==============================] - 3s 56us/sample - loss: 0.3371\n",
            "Epoch 2/5\n",
            "60000/60000 [==============================] - 4s 61us/sample - loss: 0.3277\n",
            "Epoch 3/5\n",
            "60000/60000 [==============================] - 3s 55us/sample - loss: 0.3190\n",
            "Epoch 4/5\n",
            "60000/60000 [==============================] - 3s 53us/sample - loss: 0.3110\n",
            "Epoch 5/5\n",
            "60000/60000 [==============================] - 3s 57us/sample - loss: 0.3045\n"
          ],
          "name": "stdout"
        },
        {
          "output_type": "execute_result",
          "data": {
            "text/plain": [
              "<tensorflow.python.keras.callbacks.History at 0x7f4fc4a10a90>"
            ]
          },
          "metadata": {
            "tags": []
          },
          "execution_count": 85
        }
      ]
    },
    {
      "cell_type": "code",
      "metadata": {
        "id": "jYyrCtdhNvo8",
        "colab_type": "code",
        "outputId": "21df01ef-2bd2-4601-c428-3d0f76df19d2",
        "colab": {
          "base_uri": "https://localhost:8080/",
          "height": 51
        }
      },
      "source": [
        "model.evaluate(test_images,test_labels)"
      ],
      "execution_count": 0,
      "outputs": [
        {
          "output_type": "stream",
          "text": [
            "10000/10000 [==============================] - 0s 38us/sample - loss: 0.3591\n"
          ],
          "name": "stdout"
        },
        {
          "output_type": "execute_result",
          "data": {
            "text/plain": [
              "0.35912702589035034"
            ]
          },
          "metadata": {
            "tags": []
          },
          "execution_count": 86
        }
      ]
    },
    {
      "cell_type": "code",
      "metadata": {
        "id": "w1Dm_w9JOKln",
        "colab_type": "code",
        "colab": {}
      },
      "source": [
        "classifications = model.predict(test_images)"
      ],
      "execution_count": 0,
      "outputs": []
    },
    {
      "cell_type": "markdown",
      "metadata": {
        "id": "_v2eu7E1B90d",
        "colab_type": "text"
      },
      "source": [
        "in the fashion dataset we have 10 lables ranging from 0-9\n",
        "model.predict() gives us the probability for every label"
      ]
    },
    {
      "cell_type": "code",
      "metadata": {
        "id": "6m-S7t2i_ag8",
        "colab_type": "code",
        "outputId": "2b283882-fb1b-4975-d8d4-3f0b454e7bef",
        "colab": {
          "base_uri": "https://localhost:8080/",
          "height": 51
        }
      },
      "source": [
        "print(classifications[0])"
      ],
      "execution_count": 0,
      "outputs": [
        {
          "output_type": "stream",
          "text": [
            "[4.8992610e-05 6.2067484e-06 3.9438593e-05 1.8040830e-05 9.8316395e-06\n",
            " 1.7766746e-02 6.4015585e-05 8.8985831e-02 1.0614713e-03 8.9199942e-01]\n"
          ],
          "name": "stdout"
        }
      ]
    },
    {
      "cell_type": "code",
      "metadata": {
        "id": "6vIQ0Xf_ALEK",
        "colab_type": "code",
        "outputId": "9466b010-a00c-4872-b5f8-a0189f0c9f9f",
        "colab": {
          "base_uri": "https://localhost:8080/",
          "height": 34
        }
      },
      "source": [
        "print(test_labels[0])"
      ],
      "execution_count": 0,
      "outputs": [
        {
          "output_type": "stream",
          "text": [
            "9\n"
          ],
          "name": "stdout"
        }
      ]
    },
    {
      "cell_type": "code",
      "metadata": {
        "id": "s7pUCXllBbku",
        "colab_type": "code",
        "colab": {}
      },
      "source": [
        ""
      ],
      "execution_count": 0,
      "outputs": []
    }
  ]
}